{
 "cells": [
  {
   "cell_type": "markdown",
   "metadata": {},
   "source": [
    "### Setting up the environment"
   ]
  },
  {
   "cell_type": "code",
   "execution_count": 2,
   "metadata": {},
   "outputs": [],
   "source": [
    "%matplotlib inline\n",
    "import pandas as pd\n",
    "\n",
    "import numpy as np\n",
    "# import matplotlib.pyplot as plt\n",
    "from IPython.display import Image, display\n",
    "import seaborn as sns\n",
    "pd.set_option(\"display.max_rows\", 20)\n",
    "pd.set_option(\"display.max_columns\", 20)\n",
    "import ijson\n",
    "%matplotlib inline\n",
    "from pylab import rcParams\n",
    "rcParams['figure.figsize'] = 16, 5"
   ]
  },
  {
   "cell_type": "markdown",
   "metadata": {},
   "source": [
    "### Cleaning the data script"
   ]
  },
  {
   "cell_type": "code",
   "execution_count": null,
   "metadata": {},
   "outputs": [],
   "source": [
    "import json\n",
    "write_csv = open('processed/kick.csv','w')\n",
    "json_file_path = '/home/rh0101/accion-dev/j-books/pydata-talk/data/Kickstarter_2017-10-15T10_20_38_271Z.json'\n",
    "\n",
    "headers= 'id,deadline,launched_at,state,category_type_subtype,location_type,backers_count,currency,goal,pledged,spotlight,static_usd_rate,usd_pledged,country,country_state\\n'\n",
    "\n",
    "write_csv.write(headers)\n",
    "\n",
    "for line in open(json_file_path):\n",
    "  obj = json.loads(line)\n",
    "  temp_data = []\n",
    "  try :\n",
    "    temp_data.append(str(obj[\"data\"][\"id\"]))\n",
    "    temp_data.append(str(obj[\"data\"][\"deadline\"]))\n",
    "    temp_data.append(str(obj[\"data\"][\"launched_at\"]))\n",
    "    temp_data.append(str(obj[\"data\"][\"state\"]))\n",
    "    temp_data.append(str(obj[\"data\"][\"category\"][\"slug\"]))\n",
    "    try :\n",
    "        temp_data.append(str(obj[\"data\"][\"location\"][\"type\"]))\n",
    "    except Exception as e:\n",
    "        temp_data.append('None')\n",
    "    temp_data.append(str(obj[\"data\"][\"backers_count\"]))\n",
    "    temp_data.append(str(obj[\"data\"][\"currency\"]))\n",
    "    temp_data.append(str(obj[\"data\"][\"goal\"]))\n",
    "    temp_data.append(str(obj[\"data\"][\"pledged\"]))\n",
    "    temp_data.append(str(obj[\"data\"][\"spotlight\"]))\n",
    "    temp_data.append(str(obj[\"data\"][\"static_usd_rate\"]))\n",
    "    temp_data.append(str(obj[\"data\"][\"usd_pledged\"]))\n",
    "    temp_data.append(str(obj[\"data\"][\"country\"]))\n",
    "    try:\n",
    "        temp_data.append(str(obj[\"data\"][\"location\"][\"localized_name\"]))\n",
    "    except Exception as e:\n",
    "        temp_data.append('None')\n",
    "    write_csv.write(','.join(temp_data) + '\\n')\n",
    "  except Exception as e:\n",
    "    print('error', e)\n",
    "\n",
    "write_csv.close()\n"
   ]
  },
  {
   "cell_type": "markdown",
   "metadata": {},
   "source": [
    "### Importing Dataset"
   ]
  },
  {
   "cell_type": "code",
   "execution_count": 3,
   "metadata": {},
   "outputs": [],
   "source": [
    "# import dataset\n",
    "kickstarter_file_path = '/home/rh0101/dev/blog-code/kickstarter-exploritory-analysis/processed/kick.csv'\n",
    "\n",
    "kick_df = pd.read_csv(kickstarter_file_path)"
   ]
  },
  {
   "cell_type": "code",
   "execution_count": null,
   "metadata": {},
   "outputs": [],
   "source": [
    "kick_df.head()"
   ]
  },
  {
   "cell_type": "markdown",
   "metadata": {},
   "source": [
    "### Cleaning and Transforming data"
   ]
  },
  {
   "cell_type": "markdown",
   "metadata": {},
   "source": [
    "#### Extracting category type and subtypes"
   ]
  },
  {
   "cell_type": "code",
   "execution_count": 4,
   "metadata": {},
   "outputs": [],
   "source": [
    "kick_df['category_type'] = kick_df['category_type_subtype'].apply(lambda x: x.split('/')[0])\n",
    "kick_df['category_subtype'] = kick_df['category_type_subtype'].apply(lambda x: x.split('/')[1])"
   ]
  },
  {
   "cell_type": "markdown",
   "metadata": {},
   "source": [
    "#### Fixing date time columns"
   ]
  },
  {
   "cell_type": "code",
   "execution_count": 5,
   "metadata": {},
   "outputs": [],
   "source": [
    "kick_df['deadline'] = pd.to_datetime(kick_df['deadline'], unit='s', )\n",
    "kick_df['launched_at'] = pd.to_datetime(kick_df['launched_at'], unit='s', )\n",
    "# drop the redundant column\n",
    "kick_df.drop(['category_type_subtype'], axis=1, inplace=True)"
   ]
  },
  {
   "cell_type": "markdown",
   "metadata": {},
   "source": [
    "#### Changing dtype of series"
   ]
  },
  {
   "cell_type": "code",
   "execution_count": 6,
   "metadata": {},
   "outputs": [],
   "source": [
    "# change the resolution of the floating point number\n",
    "kick_df[\"goal\"] = kick_df[\"goal\"].astype(\"float32\")\n",
    "kick_df[\"pledged\"] = kick_df[\"goal\"].astype(\"float32\")\n",
    "kick_df[\"pledged\"] = kick_df[\"goal\"].astype(\"float32\")\n",
    "kick_df[\"usd_pledged\"] = kick_df[\"goal\"].astype(\"float32\")"
   ]
  },
  {
   "cell_type": "markdown",
   "metadata": {},
   "source": [
    "#### Dealing with missing values"
   ]
  },
  {
   "cell_type": "code",
   "execution_count": 7,
   "metadata": {},
   "outputs": [],
   "source": [
    "kick_df.replace('None',np.NaN, inplace=True)"
   ]
  },
  {
   "cell_type": "code",
   "execution_count": 8,
   "metadata": {},
   "outputs": [
    {
     "data": {
      "text/plain": [
       "id                    0\n",
       "deadline              0\n",
       "launched_at           0\n",
       "state                 0\n",
       "location_type       681\n",
       "backers_count         0\n",
       "currency              0\n",
       "goal                  0\n",
       "pledged               0\n",
       "spotlight             0\n",
       "static_usd_rate       0\n",
       "usd_pledged           0\n",
       "country               0\n",
       "country_state       681\n",
       "category_type         0\n",
       "category_subtype      0\n",
       "dtype: int64"
      ]
     },
     "execution_count": 8,
     "metadata": {},
     "output_type": "execute_result"
    }
   ],
   "source": [
    "kick_df.isnull().sum()"
   ]
  },
  {
   "cell_type": "code",
   "execution_count": 9,
   "metadata": {},
   "outputs": [],
   "source": [
    "kick_df.dropna(inplace=True)"
   ]
  },
  {
   "cell_type": "markdown",
   "metadata": {},
   "source": [
    "#### Fixing Categorical variables"
   ]
  },
  {
   "cell_type": "code",
   "execution_count": 10,
   "metadata": {},
   "outputs": [],
   "source": [
    "category_variables = ['country','category_subtype','category_type','location_type','country_state','state','currency']\n",
    "for cat_var in category_variables:\n",
    "    kick_df[cat_var] = kick_df[cat_var].astype('category')"
   ]
  },
  {
   "cell_type": "markdown",
   "metadata": {},
   "source": [
    "### Variables of interest"
   ]
  },
  {
   "cell_type": "code",
   "execution_count": null,
   "metadata": {},
   "outputs": [],
   "source": [
    "##  [1] \"id\"                            \"backers_count\"                \n",
    "##  [3] \"country\"                       \"creator.failed_experience\"    \n",
    "##  [5] \"creator.id\"                    \"creator.successful_experience\"\n",
    "##  [7] \"creator.total_experience\"      \"currency\"                     \n",
    "##  [9] \"deadline\"                      \"goal\"                         \n",
    "## [11] \"launched_at\"                   \"pledged\"                      \n",
    "## [13] \"slug\"                          \"spotlight\"                    \n",
    "## [15] \"state\"                         \"static_usd_rate\"              \n",
    "## [17] \"usd_goal\"                      \"usd_pledged\"                  \n",
    "## [19] \"category_name\"                 \"location_country\"             \n",
    "## [21] \"location_type\"                 \"location_name\"                \n",
    "## [23] \"category_parent\"               \"launched_at_month\"            \n",
    "## [25] \"launched_at_year\"              \"launched_weekday\"             \n",
    "## [27] \"deadline_weekday\""
   ]
  },
  {
   "cell_type": "markdown",
   "metadata": {},
   "source": [
    "#### Project state distribution"
   ]
  },
  {
   "cell_type": "code",
   "execution_count": 11,
   "metadata": {},
   "outputs": [
    {
     "data": {
      "text/plain": [
       "state\n",
       "successful    73272\n",
       "failed        70305\n",
       "canceled       8666\n",
       "live           3591\n",
       "suspended       612\n",
       "Name: id, dtype: int64"
      ]
     },
     "execution_count": 11,
     "metadata": {},
     "output_type": "execute_result"
    }
   ],
   "source": [
    "kick_df.groupby('state')['id'].count().sort_values(ascending=False)"
   ]
  },
  {
   "cell_type": "markdown",
   "metadata": {},
   "source": [
    "#### Project category distribution"
   ]
  },
  {
   "cell_type": "code",
   "execution_count": 12,
   "metadata": {},
   "outputs": [
    {
     "data": {
      "text/plain": [
       "category_type\n",
       "music           23497\n",
       "film & video    22854\n",
       "technology      17457\n",
       "art             16927\n",
       "publishing      16222\n",
       "food            12365\n",
       "games           10483\n",
       "fashion          8515\n",
       "design           5828\n",
       "comics           5343\n",
       "photography      4902\n",
       "crafts           3962\n",
       "theater          3759\n",
       "journalism       2931\n",
       "dance            1401\n",
       "Name: id, dtype: int64"
      ]
     },
     "execution_count": 12,
     "metadata": {},
     "output_type": "execute_result"
    }
   ],
   "source": [
    "kick_df.groupby('category_type')['id'].count().sort_values(ascending=False)"
   ]
  },
  {
   "cell_type": "markdown",
   "metadata": {},
   "source": [
    "#### Project count from Top 10 countries "
   ]
  },
  {
   "cell_type": "code",
   "execution_count": 13,
   "metadata": {},
   "outputs": [
    {
     "data": {
      "text/plain": [
       "country\n",
       "US    121550\n",
       "GB     14232\n",
       "CA      6404\n",
       "AU      3414\n",
       "DE      1677\n",
       "NL      1318\n",
       "FR      1205\n",
       "IT      1169\n",
       "ES       891\n",
       "SE       795\n",
       "Name: id, dtype: int64"
      ]
     },
     "execution_count": 13,
     "metadata": {},
     "output_type": "execute_result"
    }
   ],
   "source": [
    "kick_df.groupby('country')['id'].count().sort_values(ascending=False)[0:10]"
   ]
  },
  {
   "cell_type": "markdown",
   "metadata": {},
   "source": [
    "## Plots"
   ]
  },
  {
   "cell_type": "markdown",
   "metadata": {},
   "source": [
    "### Project states"
   ]
  },
  {
   "cell_type": "code",
   "execution_count": 14,
   "metadata": {},
   "outputs": [
    {
     "data": {
      "text/plain": [
       "<matplotlib.axes._subplots.AxesSubplot at 0x7f1e549e4668>"
      ]
     },
     "execution_count": 14,
     "metadata": {},
     "output_type": "execute_result"
    },
    {
     "data": {
      "image/png": "[encoded data removed]",
      "text/plain": [
       "<matplotlib.figure.Figure at 0x7f1e549e8c50>"
      ]
     },
     "metadata": {},
     "output_type": "display_data"
    }
   ],
   "source": [
    "project_state_grp = kick_df.groupby('state')['id'].count().sort_values(ascending=False).reset_index()\n",
    "sns.barplot(x='state',y='id',data=project_state_grp)"
   ]
  },
  {
   "cell_type": "code",
   "execution_count": 17,
   "metadata": {},
   "outputs": [
    {
     "data": {
      "text/plain": [
       "<matplotlib.axes._subplots.AxesSubplot at 0x7f1e52a27278>"
      ]
     },
     "execution_count": 17,
     "metadata": {},
     "output_type": "execute_result"
    },
    {
     "data": {
      "image/png": "[encoded data removed]",
      "text/plain": [
       "<matplotlib.figure.Figure at 0x7f1e52a27e10>"
      ]
     },
     "metadata": {},
     "output_type": "display_data"
    }
   ],
   "source": [
    "# plt.figure()\n",
    "country_grp = kick_df.groupby('country')['id'].count().sort_values(ascending=False)[0:10].reset_index()\n",
    "sns.barplot(x='country',y='id',data=country_grp)"
   ]
  },
  {
   "cell_type": "code",
   "execution_count": 18,
   "metadata": {},
   "outputs": [],
   "source": [
    "country_us_df = kick_df[kick_df['country'] == 'US']\n",
    "country_us_state_grp = country_us_df.groupby('country_state')['id'].count().sort_values(ascending=False)[0:20].reset_index()"
   ]
  },
  {
   "cell_type": "code",
   "execution_count": 20,
   "metadata": {},
   "outputs": [
    {
     "data": {
      "text/plain": [
       "<matplotlib.axes._subplots.AxesSubplot at 0x7f1e52c7a978>"
      ]
     },
     "execution_count": 20,
     "metadata": {},
     "output_type": "execute_result"
    },
    {
     "data": {
      "image/png": "[encoded data removed]",
      "text/plain": [
       "<matplotlib.figure.Figure at 0x7f1e52a46860>"
      ]
     },
     "metadata": {},
     "output_type": "display_data"
    }
   ],
   "source": [
    "# plt.figure()\n",
    "sns.boxplot(x='country_state',y='id', data=country_us_state_grp)"
   ]
  },
  {
   "cell_type": "code",
   "execution_count": null,
   "metadata": {},
   "outputs": [],
   "source": []
  }
 ],
 "metadata": {
  "kernelspec": {
   "display_name": "Python 3",
   "language": "python",
   "name": "python3"
  },
  "language_info": {
   "codemirror_mode": {
    "name": "ipython",
    "version": 3
   },
   "file_extension": ".py",
   "mimetype": "text/x-python",
   "name": "python",
   "nbconvert_exporter": "python",
   "pygments_lexer": "ipython3",
   "version": "3.4.3"
  }
 },
 "nbformat": 4,
 "nbformat_minor": 2
}
