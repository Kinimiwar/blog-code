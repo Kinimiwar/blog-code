{
 "cells": [
  {
   "cell_type": "markdown",
   "metadata": {},
   "source": [
    "### Setting up the environment"
   ]
  },
  {
   "cell_type": "code",
   "execution_count": 1,
   "metadata": {},
   "outputs": [],
   "source": [
    "%matplotlib inline\n",
    "import pandas as pd\n",
    "\n",
    "import numpy as np\n",
    "import matplotlib.pyplot as plt\n",
    "from IPython.display import Image, display\n",
    "import seaborn as sns\n",
    "pd.set_option(\"display.max_rows\", 20)\n",
    "pd.set_option(\"display.max_columns\", 20)\n",
    "import ijson\n",
    "%matplotlib inline\n",
    "from pylab import rcParams\n",
    "rcParams['figure.figsize'] = 16, 5"
   ]
  },
  {
   "cell_type": "markdown",
   "metadata": {},
   "source": [
    "### Cleaning the data script"
   ]
  },
  {
   "cell_type": "code",
   "execution_count": null,
   "metadata": {},
   "outputs": [],
   "source": [
    "import json\n",
    "write_csv = open('processed/kick.csv','w')\n",
    "json_file_path = '/home/rh0101/accion-dev/j-books/pydata-talk/data/Kickstarter_2017-10-15T10_20_38_271Z.json'\n",
    "\n",
    "headers= 'id,deadline,launched_at,state,category_type_subtype,location_type,backers_count,currency,goal,pledged,spotlight,static_usd_rate,usd_pledged,country,country_state\\n'\n",
    "\n",
    "write_csv.write(headers)\n",
    "\n",
    "for line in open(json_file_path):\n",
    "  obj = json.loads(line)\n",
    "  temp_data = []\n",
    "  try :\n",
    "    temp_data.append(str(obj[\"data\"][\"id\"]))\n",
    "    temp_data.append(str(obj[\"data\"][\"deadline\"]))\n",
    "    temp_data.append(str(obj[\"data\"][\"launched_at\"]))\n",
    "    temp_data.append(str(obj[\"data\"][\"state\"]))\n",
    "    temp_data.append(str(obj[\"data\"][\"category\"][\"slug\"]))\n",
    "    try :\n",
    "        temp_data.append(str(obj[\"data\"][\"location\"][\"type\"]))\n",
    "    except Exception as e:\n",
    "        temp_data.append('None')\n",
    "    temp_data.append(str(obj[\"data\"][\"backers_count\"]))\n",
    "    temp_data.append(str(obj[\"data\"][\"currency\"]))\n",
    "    temp_data.append(str(obj[\"data\"][\"goal\"]))\n",
    "    temp_data.append(str(obj[\"data\"][\"pledged\"]))\n",
    "    temp_data.append(str(obj[\"data\"][\"spotlight\"]))\n",
    "    temp_data.append(str(obj[\"data\"][\"static_usd_rate\"]))\n",
    "    temp_data.append(str(obj[\"data\"][\"usd_pledged\"]))\n",
    "    temp_data.append(str(obj[\"data\"][\"country\"]))\n",
    "    try:\n",
    "        temp_data.append(str(obj[\"data\"][\"location\"][\"localized_name\"]))\n",
    "    except Exception as e:\n",
    "        temp_data.append('None')\n",
    "    write_csv.write(','.join(temp_data) + '\\n')\n",
    "  except Exception as e:\n",
    "    print('error', e)\n",
    "\n",
    "write_csv.close()\n"
   ]
  },
  {
   "cell_type": "markdown",
   "metadata": {},
   "source": [
    "### Importing Dataset"
   ]
  },
  {
   "cell_type": "code",
   "execution_count": 2,
   "metadata": {},
   "outputs": [],
   "source": [
    "# import dataset\n",
    "kickstarter_file_path = '/home/rh0101/dev/blog-code/kickstarter-exploritory-analysis/processed/kick.csv'\n",
    "\n",
    "kick_df = pd.read_csv(kickstarter_file_path)"
   ]
  },
  {
   "cell_type": "code",
   "execution_count": 3,
   "metadata": {},
   "outputs": [
    {
     "data": {
      "text/html": [
       "<div>\n",
       "<style scoped>\n",
       "    .dataframe tbody tr th:only-of-type {\n",
       "        vertical-align: middle;\n",
       "    }\n",
       "\n",
       "    .dataframe tbody tr th {\n",
       "        vertical-align: top;\n",
       "    }\n",
       "\n",
       "    .dataframe thead th {\n",
       "        text-align: right;\n",
       "    }\n",
       "</style>\n",
       "<table border=\"1\" class=\"dataframe\">\n",
       "  <thead>\n",
       "    <tr style=\"text-align: right;\">\n",
       "      <th></th>\n",
       "      <th>id</th>\n",
       "      <th>deadline</th>\n",
       "      <th>launched_at</th>\n",
       "      <th>state</th>\n",
       "      <th>category_type_subtype</th>\n",
       "      <th>location_type</th>\n",
       "      <th>backers_count</th>\n",
       "      <th>currency</th>\n",
       "      <th>goal</th>\n",
       "      <th>pledged</th>\n",
       "      <th>spotlight</th>\n",
       "      <th>static_usd_rate</th>\n",
       "      <th>usd_pledged</th>\n",
       "      <th>country</th>\n",
       "      <th>country_state</th>\n",
       "    </tr>\n",
       "  </thead>\n",
       "  <tbody>\n",
       "    <tr>\n",
       "      <th>0</th>\n",
       "      <td>1361433686</td>\n",
       "      <td>1477591896</td>\n",
       "      <td>1474999896</td>\n",
       "      <td>successful</td>\n",
       "      <td>art/digital art</td>\n",
       "      <td>Town</td>\n",
       "      <td>121</td>\n",
       "      <td>EUR</td>\n",
       "      <td>5000.0</td>\n",
       "      <td>5000.37</td>\n",
       "      <td>True</td>\n",
       "      <td>1.123406</td>\n",
       "      <td>5617.446510</td>\n",
       "      <td>FR</td>\n",
       "      <td>Paris</td>\n",
       "    </tr>\n",
       "    <tr>\n",
       "      <th>1</th>\n",
       "      <td>1851713855</td>\n",
       "      <td>1481389611</td>\n",
       "      <td>1476202011</td>\n",
       "      <td>successful</td>\n",
       "      <td>art/digital art</td>\n",
       "      <td>Town</td>\n",
       "      <td>7</td>\n",
       "      <td>GBP</td>\n",
       "      <td>100.0</td>\n",
       "      <td>127.00</td>\n",
       "      <td>True</td>\n",
       "      <td>1.241912</td>\n",
       "      <td>157.722830</td>\n",
       "      <td>GB</td>\n",
       "      <td>Bournemouth</td>\n",
       "    </tr>\n",
       "    <tr>\n",
       "      <th>2</th>\n",
       "      <td>675977754</td>\n",
       "      <td>1479693600</td>\n",
       "      <td>1476895843</td>\n",
       "      <td>successful</td>\n",
       "      <td>art/digital art</td>\n",
       "      <td>Town</td>\n",
       "      <td>201</td>\n",
       "      <td>CAD</td>\n",
       "      <td>12000.0</td>\n",
       "      <td>12536.32</td>\n",
       "      <td>True</td>\n",
       "      <td>0.763064</td>\n",
       "      <td>9566.014986</td>\n",
       "      <td>CA</td>\n",
       "      <td>Montreal</td>\n",
       "    </tr>\n",
       "    <tr>\n",
       "      <th>3</th>\n",
       "      <td>158101895</td>\n",
       "      <td>1480762373</td>\n",
       "      <td>1478166773</td>\n",
       "      <td>successful</td>\n",
       "      <td>art/digital art</td>\n",
       "      <td>Town</td>\n",
       "      <td>31</td>\n",
       "      <td>USD</td>\n",
       "      <td>300.0</td>\n",
       "      <td>346.00</td>\n",
       "      <td>True</td>\n",
       "      <td>1.000000</td>\n",
       "      <td>346.000000</td>\n",
       "      <td>US</td>\n",
       "      <td>Philadelphia</td>\n",
       "    </tr>\n",
       "    <tr>\n",
       "      <th>4</th>\n",
       "      <td>656509465</td>\n",
       "      <td>1481543007</td>\n",
       "      <td>1478951007</td>\n",
       "      <td>successful</td>\n",
       "      <td>art/digital art</td>\n",
       "      <td>Town</td>\n",
       "      <td>16</td>\n",
       "      <td>GBP</td>\n",
       "      <td>500.0</td>\n",
       "      <td>500.00</td>\n",
       "      <td>True</td>\n",
       "      <td>1.256416</td>\n",
       "      <td>628.207785</td>\n",
       "      <td>GB</td>\n",
       "      <td>London</td>\n",
       "    </tr>\n",
       "  </tbody>\n",
       "</table>\n",
       "</div>"
      ],
      "text/plain": [
       "           id    deadline  launched_at       state category_type_subtype  \\\n",
       "0  1361433686  1477591896   1474999896  successful       art/digital art   \n",
       "1  1851713855  1481389611   1476202011  successful       art/digital art   \n",
       "2   675977754  1479693600   1476895843  successful       art/digital art   \n",
       "3   158101895  1480762373   1478166773  successful       art/digital art   \n",
       "4   656509465  1481543007   1478951007  successful       art/digital art   \n",
       "\n",
       "  location_type  backers_count currency     goal   pledged  spotlight  \\\n",
       "0          Town            121      EUR   5000.0   5000.37       True   \n",
       "1          Town              7      GBP    100.0    127.00       True   \n",
       "2          Town            201      CAD  12000.0  12536.32       True   \n",
       "3          Town             31      USD    300.0    346.00       True   \n",
       "4          Town             16      GBP    500.0    500.00       True   \n",
       "\n",
       "   static_usd_rate  usd_pledged country country_state  \n",
       "0         1.123406  5617.446510      FR         Paris  \n",
       "1         1.241912   157.722830      GB   Bournemouth  \n",
       "2         0.763064  9566.014986      CA      Montreal  \n",
       "3         1.000000   346.000000      US  Philadelphia  \n",
       "4         1.256416   628.207785      GB        London  "
      ]
     },
     "execution_count": 3,
     "metadata": {},
     "output_type": "execute_result"
    }
   ],
   "source": [
    "kick_df.head()"
   ]
  },
  {
   "cell_type": "markdown",
   "metadata": {},
   "source": [
    "### Cleaning and Transforming data"
   ]
  },
  {
   "cell_type": "markdown",
   "metadata": {},
   "source": [
    "#### Extracting category type and subtypes"
   ]
  },
  {
   "cell_type": "code",
   "execution_count": 4,
   "metadata": {},
   "outputs": [],
   "source": [
    "kick_df['category_type'] = kick_df['category_type_subtype'].apply(lambda x: x.split('/')[0])\n",
    "kick_df['category_subtype'] = kick_df['category_type_subtype'].apply(lambda x: x.split('/')[1])"
   ]
  },
  {
   "cell_type": "markdown",
   "metadata": {},
   "source": [
    "#### Fixing date time columns"
   ]
  },
  {
   "cell_type": "code",
   "execution_count": 5,
   "metadata": {},
   "outputs": [],
   "source": [
    "kick_df['deadline'] = pd.to_datetime(kick_df['deadline'], unit='s', )\n",
    "kick_df['launched_at'] = pd.to_datetime(kick_df['launched_at'], unit='s', )\n",
    "# drop the redundant column\n",
    "kick_df.drop(['category_type_subtype'], axis=1, inplace=True)"
   ]
  },
  {
   "cell_type": "markdown",
   "metadata": {},
   "source": [
    "#### Changing dtype of series"
   ]
  },
  {
   "cell_type": "code",
   "execution_count": 6,
   "metadata": {},
   "outputs": [],
   "source": [
    "# change the resolution of the floating point number\n",
    "kick_df[\"goal\"] = kick_df[\"goal\"].astype(\"float32\")\n",
    "kick_df[\"pledged\"] = kick_df[\"goal\"].astype(\"float32\")\n",
    "kick_df[\"pledged\"] = kick_df[\"goal\"].astype(\"float32\")\n",
    "kick_df[\"usd_pledged\"] = kick_df[\"goal\"].astype(\"float32\")"
   ]
  },
  {
   "cell_type": "markdown",
   "metadata": {},
   "source": [
    "#### Dealing with missing values"
   ]
  },
  {
   "cell_type": "code",
   "execution_count": 7,
   "metadata": {},
   "outputs": [],
   "source": [
    "kick_df.replace('None',np.NaN, inplace=True)"
   ]
  },
  {
   "cell_type": "code",
   "execution_count": 8,
   "metadata": {},
   "outputs": [
    {
     "data": {
      "text/plain": [
       "id                    0\n",
       "deadline              0\n",
       "launched_at           0\n",
       "state                 0\n",
       "location_type       681\n",
       "backers_count         0\n",
       "currency              0\n",
       "goal                  0\n",
       "pledged               0\n",
       "spotlight             0\n",
       "static_usd_rate       0\n",
       "usd_pledged           0\n",
       "country               0\n",
       "country_state       681\n",
       "category_type         0\n",
       "category_subtype      0\n",
       "dtype: int64"
      ]
     },
     "execution_count": 8,
     "metadata": {},
     "output_type": "execute_result"
    }
   ],
   "source": [
    "kick_df.isnull().sum()"
   ]
  },
  {
   "cell_type": "code",
   "execution_count": 9,
   "metadata": {},
   "outputs": [],
   "source": [
    "kick_df.dropna(inplace=True)"
   ]
  },
  {
   "cell_type": "markdown",
   "metadata": {},
   "source": [
    "#### Fixing Categorical variables"
   ]
  },
  {
   "cell_type": "code",
   "execution_count": 10,
   "metadata": {},
   "outputs": [],
   "source": [
    "category_variables = ['country','category_subtype','category_type','location_type','country_state','state','currency']\n",
    "for cat_var in category_variables:\n",
    "    kick_df[cat_var] = kick_df[cat_var].astype('category')"
   ]
  },
  {
   "cell_type": "markdown",
   "metadata": {},
   "source": [
    "### Variables of interest"
   ]
  },
  {
   "cell_type": "code",
   "execution_count": 9,
   "metadata": {},
   "outputs": [],
   "source": [
    "##  [1] \"id\"                            \"backers_count\"                \n",
    "##  [3] \"country\"                       \"creator.failed_experience\"    \n",
    "##  [5] \"creator.id\"                    \"creator.successful_experience\"\n",
    "##  [7] \"creator.total_experience\"      \"currency\"                     \n",
    "##  [9] \"deadline\"                      \"goal\"                         \n",
    "## [11] \"launched_at\"                   \"pledged\"                      \n",
    "## [13] \"slug\"                          \"spotlight\"                    \n",
    "## [15] \"state\"                         \"static_usd_rate\"              \n",
    "## [17] \"usd_goal\"                      \"usd_pledged\"                  \n",
    "## [19] \"category_name\"                 \"location_country\"             \n",
    "## [21] \"location_type\"                 \"location_name\"                \n",
    "## [23] \"category_parent\"               \"launched_at_month\"            \n",
    "## [25] \"launched_at_year\"              \"launched_weekday\"             \n",
    "## [27] \"deadline_weekday\""
   ]
  },
  {
   "cell_type": "markdown",
   "metadata": {},
   "source": [
    "#### Project state distribution"
   ]
  },
  {
   "cell_type": "code",
   "execution_count": 16,
   "metadata": {},
   "outputs": [
    {
     "data": {
      "text/plain": [
       "state\n",
       "successful    73688\n",
       "failed        70556\n",
       "canceled       8680\n",
       "live           3591\n",
       "suspended       612\n",
       "Name: id, dtype: int64"
      ]
     },
     "execution_count": 16,
     "metadata": {},
     "output_type": "execute_result"
    }
   ],
   "source": [
    "kick_df.groupby('state')['id'].count().sort_values(ascending=False)"
   ]
  },
  {
   "cell_type": "markdown",
   "metadata": {},
   "source": [
    "#### Project category distribution"
   ]
  },
  {
   "cell_type": "code",
   "execution_count": 17,
   "metadata": {},
   "outputs": [
    {
     "data": {
      "text/plain": [
       "category_type\n",
       "music           23649\n",
       "film & video    23096\n",
       "technology      17494\n",
       "art             17016\n",
       "publishing      16351\n",
       "food            12365\n",
       "games           10500\n",
       "fashion          8515\n",
       "design           5840\n",
       "comics           5343\n",
       "photography      4902\n",
       "crafts           3963\n",
       "theater          3759\n",
       "journalism       2933\n",
       "dance            1401\n",
       "Name: id, dtype: int64"
      ]
     },
     "execution_count": 17,
     "metadata": {},
     "output_type": "execute_result"
    }
   ],
   "source": [
    "kick_df.groupby('category_type')['id'].count().sort_values(ascending=False)"
   ]
  },
  {
   "cell_type": "markdown",
   "metadata": {},
   "source": [
    "#### Project count from Top 10 countries "
   ]
  },
  {
   "cell_type": "code",
   "execution_count": 20,
   "metadata": {},
   "outputs": [
    {
     "data": {
      "text/plain": [
       "country\n",
       "US    122231\n",
       "GB     14232\n",
       "CA      6404\n",
       "AU      3414\n",
       "DE      1677\n",
       "NL      1318\n",
       "FR      1205\n",
       "IT      1169\n",
       "ES       891\n",
       "SE       795\n",
       "Name: id, dtype: int64"
      ]
     },
     "execution_count": 20,
     "metadata": {},
     "output_type": "execute_result"
    }
   ],
   "source": [
    "kick_df.groupby('country')['id'].count().sort_values(ascending=False)[0:10]"
   ]
  },
  {
   "cell_type": "markdown",
   "metadata": {},
   "source": [
    "## Plots"
   ]
  },
  {
   "cell_type": "markdown",
   "metadata": {},
   "source": [
    "### Project states"
   ]
  },
  {
   "cell_type": "code",
   "execution_count": 11,
   "metadata": {},
   "outputs": [
    {
     "data": {
      "text/plain": [
       "<matplotlib.axes._subplots.AxesSubplot at 0x7effec231668>"
      ]
     },
     "execution_count": 11,
     "metadata": {},
     "output_type": "execute_result"
    },
    {
     "data": {
      "image/png": "[encoded data removed]",
      "text/plain": [
       "<matplotlib.figure.Figure at 0x7f00292fcdd8>"
      ]
     },
     "metadata": {},
     "output_type": "display_data"
    }
   ],
   "source": [
    "state_grp = kick_df.groupby('state')['id'].count().sort_values(ascending=False).reset_index()\n",
    "sns.barplot(x='state',y='id',data=state_grp)"
   ]
  },
  {
   "cell_type": "code",
   "execution_count": 12,
   "metadata": {},
   "outputs": [
    {
     "data": {
      "text/plain": [
       "<matplotlib.axes._subplots.AxesSubplot at 0x7effeab6d860>"
      ]
     },
     "execution_count": 12,
     "metadata": {},
     "output_type": "execute_result"
    },
    {
     "data": {
      "image/png": "[encoded data removed]",
      "text/plain": [
       "<matplotlib.figure.Figure at 0x7effecd1f2e8>"
      ]
     },
     "metadata": {},
     "output_type": "display_data"
    }
   ],
   "source": [
    "country_grp = kick_df.groupby('country')['id'].count().sort_values(ascending=False)[0:10].reset_index()\n",
    "sns.barplot(x='country',y='id',data=country_grp)"
   ]
  },
  {
   "cell_type": "code",
   "execution_count": null,
   "metadata": {},
   "outputs": [],
   "source": [
    "country_df = kick_df[kick_df['country'] == 'US']\n",
    "country_state_grp = country_df.groupby('country_state')['id'].count().sort_values(ascending=False)[0:20].reset_index()"
   ]
  },
  {
   "cell_type": "code",
   "execution_count": null,
   "metadata": {},
   "outputs": [],
   "source": [
    "country_state_grp"
   ]
  },
  {
   "cell_type": "code",
   "execution_count": null,
   "metadata": {},
   "outputs": [],
   "source": [
    "sns.barplot(x='id',y='country_state',data=country_state_grp)"
   ]
  },
  {
   "cell_type": "code",
   "execution_count": null,
   "metadata": {},
   "outputs": [],
   "source": []
  }
 ],
 "metadata": {
  "kernelspec": {
   "display_name": "Python 3",
   "language": "python",
   "name": "python3"
  },
  "language_info": {
   "codemirror_mode": {
    "name": "ipython",
    "version": 3
   },
   "file_extension": ".py",
   "mimetype": "text/x-python",
   "name": "python",
   "nbconvert_exporter": "python",
   "pygments_lexer": "ipython3",
   "version": "3.4.3"
  }
 },
 "nbformat": 4,
 "nbformat_minor": 2
}
